{
  "nbformat": 4,
  "nbformat_minor": 0,
  "metadata": {
    "colab": {
      "provenance": []
    },
    "kernelspec": {
      "name": "python3",
      "display_name": "Python 3"
    },
    "language_info": {
      "name": "python"
    }
  },
  "cells": [
    {
      "cell_type": "code",
      "execution_count": null,
      "metadata": {
        "id": "ePQrEGQ_33eg"
      },
      "outputs": [],
      "source": []
    },
    {
      "cell_type": "code",
      "source": [
        "import pandas as pd"
      ],
      "metadata": {
        "id": "5tirTEr937Zc"
      },
      "execution_count": 2,
      "outputs": []
    },
    {
      "cell_type": "code",
      "source": [
        "Prices = [[300, 500],\n",
        "          [1000, 120.85]]\n",
        "\n",
        "Array2 = [200, 100]\n",
        "\n",
        "print(Prices[0][0])\n",
        "print(Prices[0][1])\n",
        "print(Prices[1][0])\n",
        "print(Prices[1][1])"
      ],
      "metadata": {
        "colab": {
          "base_uri": "https://localhost:8080/"
        },
        "id": "k-mkyrjR4Cxr",
        "outputId": "9887d104-43b1-40ec-afae-12bae24acbb3"
      },
      "execution_count": 3,
      "outputs": [
        {
          "output_type": "stream",
          "name": "stdout",
          "text": [
            "300\n",
            "500\n",
            "1000\n",
            "120.85\n"
          ]
        }
      ]
    },
    {
      "cell_type": "code",
      "source": [
        "Ans = []\n",
        "#initializing an empty list to store results"
      ],
      "metadata": {
        "id": "Bdh_js5_4J5j"
      },
      "execution_count": 4,
      "outputs": []
    },
    {
      "cell_type": "code",
      "source": [
        "for i in range(len(Prices)):\n",
        "    row_sum = 0\n",
        "    for j in range(len(Prices[0])):\n",
        "        index_prod = Prices[i][j] * Array2[j]  # Multiply corresponding elements\n",
        "        row_sum += index_prod  # Add to the row sum\n",
        "    Ans.append(row_sum)  # Append the row sum to the results list\n",
        "\n",
        "# Print the resulting sums\n",
        "print(Ans)"
      ],
      "metadata": {
        "colab": {
          "base_uri": "https://localhost:8080/"
        },
        "id": "AcbEFtd95Kzl",
        "outputId": "2038d8ec-3ac0-464e-f4fa-98a2279a83fb"
      },
      "execution_count": 5,
      "outputs": [
        {
          "output_type": "stream",
          "name": "stdout",
          "text": [
            "[110000, 212085.0]\n"
          ]
        }
      ]
    }
  ]
}